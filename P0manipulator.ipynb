{
 "cells": [
  {
   "attachments": {},
   "cell_type": "markdown",
   "id": "8b155856",
   "metadata": {},
   "source": [
    "Team members:\n",
    "\n",
    "Anubhav Garikapadu [Net ID: ag2112]\n",
    "\n",
    "Hittishi Kurlagunda [Net ID: hk919]\n",
    "\n",
    "Sowmiyanarayan Selvam [Net ID: ss4370]"
   ]
  },
  {
   "cell_type": "markdown",
   "id": "f2c65afe-1a9a-4c56-8e1c-e3757ce2ffba",
   "metadata": {},
   "source": [
    "First, let's import `mujoco` and some other useful libraries."
   ]
  },
  {
   "cell_type": "code",
   "execution_count": 1,
   "id": "c1044f73-b66e-4b09-b4fd-f8b585fe3b0a",
   "metadata": {},
   "outputs": [],
   "source": [
    "import mujoco as mj\n",
    "from mujoco.glfw import glfw\n",
    "import numpy as np\n",
    "from callbacks import *"
   ]
  },
  {
   "cell_type": "markdown",
   "id": "1f6c088b-866e-4bf6-8f53-1581dd494f81",
   "metadata": {},
   "source": [
    "We will now set our model path, and ask MuJoCo to setup the following:\n",
    "\n",
    "* MuJoCo's `mjModel` contains the _model description_, i.e., all quantities that *do not change over time*. \n",
    "* `mjData` contains the state and the quantities that depend on it. In order to make an `mjData`, we need an `mjModel`. `mjData` also contains useful functions of the state, for e.g., the Cartesian positions of objects in the world frame.\n",
    "* `mjvCamera` and `mjvOption` are for visualization. We don't have to worry about this for now."
   ]
  },
  {
   "cell_type": "code",
   "execution_count": 2,
   "id": "52080801-6892-4cde-ad69-d72f2ba77629",
   "metadata": {},
   "outputs": [],
   "source": [
    "xml_path = 'P0manipulator.xml' #xml file (assumes this is in the same folder as this file)\n",
    "\n",
    "# MuJoCo data structures\n",
    "model = mj.MjModel.from_xml_path(xml_path)  # MuJoCo model\n",
    "data  = mj.MjData(model)                    # MuJoCo data\n",
    "cam   = mj.MjvCamera()                        # Abstract camera\n",
    "opt   = mj.MjvOption()                        # visualization options"
   ]
  },
  {
   "cell_type": "markdown",
   "id": "f4a19bb3-11a3-4239-9cc5-c33feed7069c",
   "metadata": {},
   "source": [
    "Next, we set up the visualization code. You don't have to change any of this code for Assignment 0."
   ]
  },
  {
   "cell_type": "code",
   "execution_count": 3,
   "id": "eb4a2533-0ca1-4412-94be-beb60610ee86",
   "metadata": {
    "tags": []
   },
   "outputs": [],
   "source": [
    "# Init GLFW, create window, make OpenGL context current, request v-sync\n",
    "glfw.init()\n",
    "window = glfw.create_window(1024, 720, \"Demo\", None, None)\n",
    "glfw.make_context_current(window)\n",
    "glfw.swap_interval(1)\n",
    "\n",
    "# initialize visualization data structures\n",
    "mj.mjv_defaultCamera(cam)\n",
    "mj.mjv_defaultOption(opt)\n",
    "scene = mj.MjvScene(model, maxgeom=10000)\n",
    "context = mj.MjrContext(model, mj.mjtFontScale.mjFONTSCALE_150.value)\n",
    "\n",
    "cb = Callbacks(model,data,cam,scene)\n",
    "\n",
    "# install GLFW mouse and keyboard callbacks\n",
    "glfw.set_key_callback(window, cb.keyboard)\n",
    "glfw.set_cursor_pos_callback(window, cb.mouse_move)\n",
    "glfw.set_mouse_button_callback(window, cb.mouse_button)\n",
    "glfw.set_scroll_callback(window, cb.scroll)\n",
    "\n",
    "# Example on how to set camera configuration\n",
    "cam.azimuth = 89.83044433593757 ; cam.elevation = -89.0 ; cam.distance =  10\n",
    "cam.lookat =np.array([ 0.0 , 0.0 , 0.0 ])"
   ]
  },
  {
   "cell_type": "markdown",
   "id": "5363ca1d-dc31-4cdf-b074-641ac7ab284b",
   "metadata": {},
   "source": [
    "Now let's do something with our manipulator. We can set the joint angles for both the joints directly. So let's start by placing the robot at the configuration [0, pi/2], and move it to [0, -2pi]. \n",
    "\n",
    "We will perform this motion by interpolating between 500 configurations between the start and the end configurations. \n",
    "\n",
    "**Exercise**: What happens if you increase or decrease the value of `N`?"
   ]
  },
  {
   "cell_type": "code",
   "execution_count": 4,
   "id": "d2701567-6ad1-48eb-88d1-c7fd2b2df718",
   "metadata": {},
   "outputs": [],
   "source": [
    "N = 500\n",
    "q0_start = 0;\n",
    "q0_end = 1.57;\n",
    "\n",
    "q1_start = 0;\n",
    "q1_end = -2*3.14;\n",
    "\n",
    "q2_start = 0;\n",
    "q2_end = 4*3.14;\n",
    "\n",
    "q0 = np.linspace(q0_start,q0_end,N)\n",
    "q1 = np.linspace(q1_start,q1_end,N)\n",
    "q2 = np.linspace(q2_start,q2_end,N)\n",
    "\n",
    "data.qpos[0] = q0_start\n",
    "data.qpos[1] = q1_start\n",
    "data.qpos[2] = q2_start\n",
    "\n",
    "time = 0\n",
    "i = 0\n",
    "dt = 0.001;"
   ]
  },
  {
   "cell_type": "markdown",
   "id": "21e037a2-d4ea-453a-a59d-1efe5a175233",
   "metadata": {},
   "source": [
    "The below while loop will continue executing as long as we don't close the visualizer window. \n",
    "\n",
    "At a frequency of ~60Hz, the below loop will reset the joint position to the next configuration in our trajectory. \n",
    "\n",
    "Note that we are never stepping forward the simulation, i.e. applying any forces that may act on the manipulator, and asking MuJoCo to simulate the effects. **Why**? "
   ]
  },
  {
   "cell_type": "code",
   "execution_count": 5,
   "id": "a648b645-9e22-42b8-8d6e-f98ee2df91c0",
   "metadata": {},
   "outputs": [],
   "source": [
    "trajectory = []\n",
    "\n",
    "while not glfw.window_should_close(window):\n",
    "    time_prev = time\n",
    "\n",
    "    while (time - time_prev < 1.0/60.0) and i < N:\n",
    "        data.qpos[0] = q0[i];\n",
    "        data.qpos[1] = q1[i];\n",
    "        data.qpos[2] = q2[i];\n",
    "        mj.mj_forward(model,data)\n",
    "        time +=dt\n",
    "        trajectory.append([np.copy(data.site_xpos[0])])\n",
    "        \n",
    "    i += 1\n",
    "\n",
    "    # ==================================================================================\n",
    "    # The below code updates the visualization -- do not modify it!\n",
    "    # ==================================================================================\n",
    "    # get framebuffer viewport\n",
    "    viewport_width, viewport_height = glfw.get_framebuffer_size(window)\n",
    "    viewport = mj.MjrRect(0, 0, viewport_width, viewport_height)\n",
    "\n",
    "    # Update scene and render\n",
    "    mj.mjv_updateScene(model, data, opt, None, cam, mj.mjtCatBit.mjCAT_ALL.value, scene)\n",
    "    mj.mjr_render(viewport, scene, context)\n",
    "\n",
    "    # swap OpenGL buffers (blocking call due to v-sync)\n",
    "    glfw.swap_buffers(window)\n",
    "\n",
    "    # process pending GUI events, call GLFW callbacks\n",
    "    glfw.poll_events()\n",
    "    \n",
    "\n",
    "glfw.terminate()"
   ]
  },
  {
   "cell_type": "code",
   "execution_count": 6,
   "id": "f39b7324-cc4b-4ec2-8e37-883a7761aa2e",
   "metadata": {},
   "outputs": [
    {
     "name": "stdout",
     "output_type": "stream",
     "text": [
      "(8500, 1, 3)\n"
     ]
    }
   ],
   "source": [
    "trajectory = np.array(trajectory)\n",
    "print(trajectory.shape)"
   ]
  },
  {
   "cell_type": "code",
   "execution_count": 7,
   "id": "45f8ad69-5a47-43c2-b3d6-37adcc0dc18a",
   "metadata": {},
   "outputs": [
    {
     "data": {
      "image/png": "[encoded data removed]",
      "text/plain": [
       "<Figure size 800x800 with 1 Axes>"
      ]
     },
     "metadata": {},
     "output_type": "display_data"
    }
   ],
   "source": [
    "import matplotlib.pyplot as plt\n",
    "# # You need the below line only if you're using this inside a Jupyter notebook.\n",
    "# %matplotlib inline\n",
    "\n",
    "plt.figure(figsize=(8,8))\n",
    "plt.plot(trajectory[:,0,0],trajectory[:,0,1],color='black')\n",
    "plt.scatter(trajectory[0,0,0],trajectory[0,0,1],marker='o',label='Start')\n",
    "plt.scatter(trajectory[-1,0,0],trajectory[-1,0,1],marker='x',label='End')\n",
    "plt.legend(loc='best')\n",
    "plt.show()"
   ]
  },
  {
   "cell_type": "code",
   "execution_count": null,
   "id": "d64cb840-c224-4d31-9f6f-af505cb3427f",
   "metadata": {},
   "outputs": [],
   "source": []
  }
 ],
 "metadata": {
  "kernelspec": {
   "display_name": "Python 3 (ipykernel)",
   "language": "python",
   "name": "python3"
  },
  "language_info": {
   "codemirror_mode": {
    "name": "ipython",
    "version": 3
   },
   "file_extension": ".py",
   "mimetype": "text/x-python",
   "name": "python",
   "nbconvert_exporter": "python",
   "pygments_lexer": "ipython3",
   "version": "3.9.13"
  }
 },
 "nbformat": 4,
 "nbformat_minor": 5
}
